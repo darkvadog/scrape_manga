{
 "cells": [
  {
   "cell_type": "markdown",
   "metadata": {},
   "source": [
    "# Scrape Mangareader"
   ]
  },
  {
   "cell_type": "markdown",
   "metadata": {},
   "source": [
    "## Set-up for a single page\n",
    "### Selenium to access JS components"
   ]
  },
  {
   "cell_type": "code",
   "execution_count": 5,
   "metadata": {},
   "outputs": [],
   "source": [
    "from selenium import webdriver\n",
    "from selenium.webdriver.common.by import By\n",
    "from bs4 import BeautifulSoup\n",
    "from PIL import Image\n",
    "from io import BytesIO\n",
    "import os\n",
    "import requests\n",
    "import time"
   ]
  },
  {
   "cell_type": "code",
   "execution_count": 6,
   "metadata": {},
   "outputs": [],
   "source": [
    "# Find the number of chapters in the manga \"Dorohedoro\" \n",
    "# setup webdriver\n",
    "driver = webdriver.Chrome()\n",
    "\n",
    "# navigate to the webpage\n",
    "driver.get('https://mangareader.to/read/dorohedoro-57/en/chapter-1')\n",
    "\n",
    "# Find the button with the text \"Reject All\" and click it using JavaScript\n",
    "button = driver.find_element(By.XPATH, \"//span[text()='Reject All']\")\n",
    "driver.execute_script(\"arguments[0].click();\", button)\n",
    "\n",
    "# Find the element with the class \"dropdown-item mode-item\" and data-value \"horizontal\" and click it using JavaScript\n",
    "element = driver.find_element(By.XPATH, \"//a[@class='dropdown-item mode-item' and @data-value='horizontal']\")\n",
    "driver.execute_script(\"arguments[0].click();\", element)\n",
    "\n",
    "# make the driver wait for 5 seconds\n",
    "time.sleep(5)\n",
    "\n",
    "# use BeautifulSoup to parse the HTML\n",
    "soup = BeautifulSoup(driver.page_source, 'html.parser')\n",
    "\n",
    "# find the first li element with the class \"item reading-item chapter-item\"\n",
    "li_element = soup.find('li', class_='item reading-item chapter-item')\n",
    "\n",
    "# extract the data-number attribute and convert it to an integer\n",
    "data_number = float(li_element['data-number'])"
   ]
  },
  {
   "cell_type": "code",
   "execution_count": 7,
   "metadata": {},
   "outputs": [
    {
     "name": "stdout",
     "output_type": "stream",
     "text": [
      "Chapter 1: Downloaded 24 images\n"
     ]
    }
   ],
   "source": [
    "# Loop through all the chapters\n",
    "for chapter in range(1, 2):\n",
    "    driver.get(f\"https://mangareader.to/read/dorohedoro-57/en/chapter-{chapter}\")\n",
    "\n",
    "    # Update the soup object with the new page content\n",
    "    soup = BeautifulSoup(driver.page_source, 'html.parser')\n",
    "\n",
    "    # Find all div elements with class \"ds-image shuffled loaded\" and \"ds-image shuffled\"\n",
    "    divs = soup.find_all('div', class_=['ds-image shuffled loaded', 'ds-image shuffled'])\n",
    "\n",
    "    # If no divs were found, try finding divs with class \"ds-image loaded\"\n",
    "    if not divs:\n",
    "        divs = soup.find_all('div', class_='ds-image loaded')\n",
    "\n",
    "    # Check if any data URLs were found\n",
    "    if not divs:\n",
    "        print(f\"Chapter {chapter}: No images found\")\n",
    "        continue  # Skip to the next chapter\n",
    "\n",
    "    # Extract data-url from each div and store in a list\n",
    "    data_urls = [div.get('data-url') for div in divs]\n",
    "\n",
    "    # Download images\n",
    "    images = []\n",
    "    for url in data_urls:\n",
    "        try:\n",
    "            response = requests.get(url)\n",
    "            img = Image.open(BytesIO(response.content))\n",
    "            images.append(img)\n",
    "        except requests.exceptions.RequestException as e:\n",
    "            print(f\"Chapter {chapter}: Error downloading image: {e}\")\n",
    "\n",
    "    # Check if any images were downloaded\n",
    "    if not images:\n",
    "        print(f\"Chapter {chapter}: Failed to download any images\")\n",
    "        continue  # Skip to the next chapter\n",
    "\n",
    "    # Convert images to JPEG format\n",
    "    images = [img.convert('RGB') for img in images]\n",
    "\n",
    "    os.makedirs(f\"Chapter_{chapter}\", exist_ok=True)\n",
    "\n",
    "    # Save images in the chapter subfolder  \n",
    "    for i, img in enumerate(images):\n",
    "        img.save(f\"Chapter_{chapter}/Image_{i+1}.jpeg\")\n",
    "\n",
    "    print(f\"Chapter {chapter}: Downloaded {len(images)} images\")"
   ]
  },
  {
   "cell_type": "code",
   "execution_count": 11,
   "metadata": {},
   "outputs": [
    {
     "name": "stderr",
     "output_type": "stream",
     "text": [
      "<>:12: SyntaxWarning: invalid escape sequence '\\O'\n",
      "<>:12: SyntaxWarning: invalid escape sequence '\\O'\n",
      "C:\\Users\\phili\\AppData\\Local\\Temp\\ipykernel_14116\\3405017138.py:12: SyntaxWarning: invalid escape sequence '\\O'\n",
      "  divide_image(\"\\OLD\\Chapter_1\\Image_1.jpeg\", 200)\n",
      "C:\\Users\\phili\\AppData\\Local\\Temp\\ipykernel_14116\\3405017138.py:12: SyntaxWarning: invalid escape sequence '\\O'\n",
      "  divide_image(\"\\OLD\\Chapter_1\\Image_1.jpeg\", 200)\n"
     ]
    },
    {
     "ename": "FileNotFoundError",
     "evalue": "[Errno 2] No such file or directory: 'C:\\\\OLD\\\\Chapter_1\\\\Image_1.jpeg'",
     "output_type": "error",
     "traceback": [
      "\u001b[1;31m---------------------------------------------------------------------------\u001b[0m",
      "\u001b[1;31mFileNotFoundError\u001b[0m                         Traceback (most recent call last)",
      "Cell \u001b[1;32mIn[11], line 12\u001b[0m\n\u001b[0;32m      9\u001b[0m                 cropped_img\u001b[38;5;241m.\u001b[39msave(\u001b[38;5;124mf\u001b[39m\u001b[38;5;124m\"\u001b[39m\u001b[38;5;132;01m{\u001b[39;00mos\u001b[38;5;241m.\u001b[39mpath\u001b[38;5;241m.\u001b[39msplitext(image_path)[\u001b[38;5;241m0\u001b[39m]\u001b[38;5;132;01m}\u001b[39;00m\u001b[38;5;124m_\u001b[39m\u001b[38;5;132;01m{\u001b[39;00mi\u001b[38;5;132;01m}\u001b[39;00m\u001b[38;5;124m_\u001b[39m\u001b[38;5;132;01m{\u001b[39;00mj\u001b[38;5;132;01m}\u001b[39;00m\u001b[38;5;124m.jpeg\u001b[39m\u001b[38;5;124m\"\u001b[39m)\n\u001b[0;32m     11\u001b[0m \u001b[38;5;66;03m# Usage\u001b[39;00m\n\u001b[1;32m---> 12\u001b[0m \u001b[43mdivide_image\u001b[49m\u001b[43m(\u001b[49m\u001b[38;5;124;43m\"\u001b[39;49m\u001b[38;5;124;43m\\\u001b[39;49m\u001b[38;5;124;43mOLD\u001b[39;49m\u001b[38;5;124;43m\\\u001b[39;49m\u001b[38;5;124;43mChapter_1\u001b[39;49m\u001b[38;5;124;43m\\\u001b[39;49m\u001b[38;5;124;43mImage_1.jpeg\u001b[39;49m\u001b[38;5;124;43m\"\u001b[39;49m\u001b[43m,\u001b[49m\u001b[43m \u001b[49m\u001b[38;5;241;43m200\u001b[39;49m\u001b[43m)\u001b[49m\n",
      "Cell \u001b[1;32mIn[11], line 2\u001b[0m, in \u001b[0;36mdivide_image\u001b[1;34m(image_path, square_size)\u001b[0m\n\u001b[0;32m      1\u001b[0m \u001b[38;5;28;01mdef\u001b[39;00m \u001b[38;5;21mdivide_image\u001b[39m(image_path, square_size):\n\u001b[1;32m----> 2\u001b[0m     \u001b[38;5;28;01mwith\u001b[39;00m \u001b[43mImage\u001b[49m\u001b[38;5;241;43m.\u001b[39;49m\u001b[43mopen\u001b[49m\u001b[43m(\u001b[49m\u001b[43mimage_path\u001b[49m\u001b[43m)\u001b[49m \u001b[38;5;28;01mas\u001b[39;00m img:\n\u001b[0;32m      3\u001b[0m         width, height \u001b[38;5;241m=\u001b[39m img\u001b[38;5;241m.\u001b[39msize\n\u001b[0;32m      5\u001b[0m         \u001b[38;5;28;01mfor\u001b[39;00m i \u001b[38;5;129;01min\u001b[39;00m \u001b[38;5;28mrange\u001b[39m(\u001b[38;5;241m0\u001b[39m, width, square_size):\n",
      "File \u001b[1;32mc:\\Users\\phili\\Projects\\Scrape_Manga\\venv\\Lib\\site-packages\\PIL\\Image.py:3277\u001b[0m, in \u001b[0;36mopen\u001b[1;34m(fp, mode, formats)\u001b[0m\n\u001b[0;32m   3274\u001b[0m     filename \u001b[38;5;241m=\u001b[39m os\u001b[38;5;241m.\u001b[39mpath\u001b[38;5;241m.\u001b[39mrealpath(os\u001b[38;5;241m.\u001b[39mfspath(fp))\n\u001b[0;32m   3276\u001b[0m \u001b[38;5;28;01mif\u001b[39;00m filename:\n\u001b[1;32m-> 3277\u001b[0m     fp \u001b[38;5;241m=\u001b[39m \u001b[43mbuiltins\u001b[49m\u001b[38;5;241;43m.\u001b[39;49m\u001b[43mopen\u001b[49m\u001b[43m(\u001b[49m\u001b[43mfilename\u001b[49m\u001b[43m,\u001b[49m\u001b[43m \u001b[49m\u001b[38;5;124;43m\"\u001b[39;49m\u001b[38;5;124;43mrb\u001b[39;49m\u001b[38;5;124;43m\"\u001b[39;49m\u001b[43m)\u001b[49m\n\u001b[0;32m   3278\u001b[0m     exclusive_fp \u001b[38;5;241m=\u001b[39m \u001b[38;5;28;01mTrue\u001b[39;00m\n\u001b[0;32m   3280\u001b[0m \u001b[38;5;28;01mtry\u001b[39;00m:\n",
      "\u001b[1;31mFileNotFoundError\u001b[0m: [Errno 2] No such file or directory: 'C:\\\\OLD\\\\Chapter_1\\\\Image_1.jpeg'"
     ]
    }
   ],
   "source": [
    "def divide_image(image_path, square_size):\n",
    "    with Image.open(image_path) as img:\n",
    "        width, height = img.size\n",
    "\n",
    "        for i in range(0, width, square_size):\n",
    "            for j in range(0, height, square_size):\n",
    "                box = (i, j, i+square_size, j+square_size)\n",
    "                cropped_img = img.crop(box)\n",
    "                cropped_img.save(f\"{os.path.splitext(image_path)[0]}_{i}_{j}.jpeg\")\n",
    "\n",
    "# Usage\n",
    "divide_image(\"\\OLD\\Chapter_1\\Image_1.jpeg\", 200)"
   ]
  },
  {
   "cell_type": "markdown",
   "metadata": {},
   "source": [
    "## Find bonus chapters"
   ]
  },
  {
   "cell_type": "code",
   "execution_count": 8,
   "metadata": {},
   "outputs": [],
   "source": [
    "valid_urls = []  # Create an empty list to store valid URLs\n",
    "\n",
    "for chapter in range(1, int(data_number) + 2):\n",
    "\n",
    "    # Check for a decimal chapter\n",
    "    bonus_chapter = chapter + 0.5\n",
    "    bonus_url = f\"https://mangareader.to/read/dorohedoro-57/en/chapter-{bonus_chapter}\"\n",
    "\n",
    "    response = requests.get(bonus_url)\n",
    "\n",
    "    if response.status_code == 200:\n",
    "        valid_urls.append(bonus_url)"
   ]
  }
 ],
 "metadata": {
  "kernelspec": {
   "display_name": "Python 3",
   "language": "python",
   "name": "python3"
  },
  "language_info": {
   "codemirror_mode": {
    "name": "ipython",
    "version": 3
   },
   "file_extension": ".py",
   "mimetype": "text/x-python",
   "name": "python",
   "nbconvert_exporter": "python",
   "pygments_lexer": "ipython3",
   "version": "3.12.1"
  }
 },
 "nbformat": 4,
 "nbformat_minor": 2
}
