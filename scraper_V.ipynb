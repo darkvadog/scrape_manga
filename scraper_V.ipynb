{
 "cells": [
  {
   "cell_type": "markdown",
   "metadata": {},
   "source": [
    "# Scrape Mangareader"
   ]
  },
  {
   "cell_type": "markdown",
   "metadata": {},
   "source": [
    "## Set-up for a single page\n",
    "### Selenium to access JS components"
   ]
  },
  {
   "cell_type": "code",
   "execution_count": 4,
   "metadata": {},
   "outputs": [],
   "source": [
    "from selenium import webdriver\n",
    "from selenium.webdriver.common.by import By\n",
    "from bs4 import BeautifulSoup\n",
    "from PIL import Image\n",
    "from io import BytesIO\n",
    "import requests\n",
    "import time"
   ]
  },
  {
   "cell_type": "code",
   "execution_count": 5,
   "metadata": {},
   "outputs": [],
   "source": [
    "# Find the number of chapters in the manga \"Vagabond Colored Edition\"\n",
    "# setup webdriver\n",
    "driver = webdriver.Chrome()\n",
    "\n",
    "# navigate to the webpage\n",
    "driver.get('https://mangareader.to/read/vagabond-colored-edition-55963/en/chapter-1')\n",
    "\n",
    "# Find the button with the text \"Reject All\" and click it using JavaScript\n",
    "button = driver.find_element(By.XPATH, \"//span[text()='Reject All']\")\n",
    "driver.execute_script(\"arguments[0].click();\", button)\n",
    "\n",
    "# Find the element with the class \"dropdown-item mode-item\" and data-value \"horizontal\" and click it using JavaScript\n",
    "element = driver.find_element(By.XPATH, \"//a[@class='dropdown-item mode-item' and @data-value='horizontal']\")\n",
    "driver.execute_script(\"arguments[0].click();\", element)\n",
    "\n",
    "# make the driver wait for 5 seconds\n",
    "time.sleep(5)\n",
    "\n",
    "# use BeautifulSoup to parse the HTML\n",
    "soup = BeautifulSoup(driver.page_source, 'html.parser')\n",
    "\n",
    "# find the first li element with the class \"item reading-item chapter-item\"\n",
    "li_element = soup.find('li', class_='item reading-item chapter-item')\n",
    "\n",
    "# extract the data-number attribute\n",
    "data_number = int(li_element['data-number'])"
   ]
  },
  {
   "cell_type": "code",
   "execution_count": 6,
   "metadata": {},
   "outputs": [],
   "source": [
    "# Loop through all the chapters\n",
    "for chapter in range(1, data_number + 1):\n",
    "    # If it is not chapter 1, reload the driver\n",
    "    if chapter != 1:\n",
    "        driver.get(f\"https://mangareader.to/read/vagabond-colored-edition-55963/en/chapter-{chapter}\")\n",
    "    \n",
    "    # Update the soup object with the new page content\n",
    "    soup = BeautifulSoup(driver.page_source, 'html.parser')\n",
    "\n",
    "    # Find all div elements with class \"ds-image shuffled loaded\" and \"ds-image shuffled\"\n",
    "    divs = soup.find_all('div', class_=['ds-image shuffled loaded', 'ds-image shuffled'])\n",
    "\n",
    "    # If no divs were found, try finding divs with class \"ds-image loaded\"\n",
    "    if not divs:\n",
    "        divs = soup.find_all('div', class_='ds-image loaded')\n",
    "\n",
    "    # Check if any data URLs were found\n",
    "    if not divs:\n",
    "        print(f\"Chapter {chapter}: No images found\")\n",
    "        continue  # Skip to the next chapter\n",
    "\n",
    "    # Extract data-url from each div and store in a list\n",
    "    data_urls = [div.get('data-url') for div in divs]\n",
    "\n",
    "    # Download images\n",
    "    images = []\n",
    "    for url in data_urls:\n",
    "        try:\n",
    "            response = requests.get(url)\n",
    "            img = Image.open(BytesIO(response.content))\n",
    "            images.append(img)\n",
    "        except requests.exceptions.RequestException as e:\n",
    "            print(f\"Chapter {chapter}: Error downloading image: {e}\")\n",
    "\n",
    "    # Check if any images were downloaded\n",
    "    if not images:\n",
    "        print(f\"Chapter {chapter}: Failed to download any images\")\n",
    "        continue  # Skip to the next chapter\n",
    "\n",
    "    # Save images as PDF\n",
    "    images[0].save(f\"vagabond_{chapter}.pdf\", save_all=True, append_images=images[1:])"
   ]
  },
  {
   "cell_type": "code",
   "execution_count": 7,
   "metadata": {},
   "outputs": [],
   "source": [
    "# Close the driver\n",
    "driver.close()"
   ]
  }
 ],
 "metadata": {
  "kernelspec": {
   "display_name": "Python 3",
   "language": "python",
   "name": "python3"
  },
  "language_info": {
   "codemirror_mode": {
    "name": "ipython",
    "version": 3
   },
   "file_extension": ".py",
   "mimetype": "text/x-python",
   "name": "python",
   "nbconvert_exporter": "python",
   "pygments_lexer": "ipython3",
   "version": "3.12.1"
  }
 },
 "nbformat": 4,
 "nbformat_minor": 2
}
